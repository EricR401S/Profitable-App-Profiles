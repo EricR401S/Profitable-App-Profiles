{
 "cells": [
  {
   "cell_type": "markdown",
   "metadata": {},
   "source": [
    "# Identifying profitable app profiles from Google and IOS app store data"
   ]
  },
  {
   "cell_type": "markdown",
   "metadata": {},
   "source": [
    "## Introduction\n",
    "\n",
    "Greetings, my name is Eric. The main aim of this Dataquest project is to identify what kinds of free and English apps attract more users and on the the app stores of both platforms. For this project, I am a data analyst for a company that makes apps for the Google Play and the IOS App Store. The company builds apps in English that are free to download and install, so its only source of income comes from ad revenue based on the number of users that see and interact with the advertisements. \n",
    "\n",
    "The approach to handle this project will consist of opening the tabular Google Play (2017) and IOS (2018) [datasets](https://github.com/dataquestio/solutions/blob/master/Mission350Solutions.ipynb) as a list of lists. The following step will be to clean the data and have only complete, free and English app records remaining. The last step will be to identify popular apps  based on either the genre app pool or the user downloads.\n",
    "\n",
    "The main results across both datasets were that social media apps or apps with very strong social elements were the most prevalent profile. For the Google Play store, communication, video-playing and social apps were the most popular according to user downloads. For the IOS app store, reference and social networking apps show the highest engagement, as well as the runner-ups navigation, music, and weather. I achieved my goal for this project, which was to look for some profitable insights inside the data because I'm very curious about how it behaved. "
   ]
  },
  {
   "cell_type": "markdown",
   "metadata": {},
   "source": [
    "## Exploring the data"
   ]
  },
  {
   "cell_type": "code",
   "execution_count": 59,
   "metadata": {
    "collapsed": true
   },
   "outputs": [],
   "source": [
    "#Step 1:Time to write a function that can\n",
    "#open both csv files and convert them into a list of lists.\n",
    "\n",
    "def csv_to_list(dataset):\n",
    "    opened_file = open(dataset)\n",
    "    from csv import reader\n",
    "    read_file = reader(opened_file)\n",
    "    list_mode = list(read_file)\n",
    "    return list_mode"
   ]
  },
  {
   "cell_type": "code",
   "execution_count": 60,
   "metadata": {},
   "outputs": [],
   "source": [
    "#Google Play app list\n",
    "\n",
    "GP_app_list = csv_to_list('googleplaystore.csv')\n",
    "GP_app_header = GP_app_list[0]\n",
    "GP_app_data = GP_app_list[1:]\n",
    "\n",
    "#IOS appstore app list\n",
    "\n",
    "IOS_app_list = csv_to_list('AppleStore.csv')\n",
    "IOS_app_header = IOS_app_list[0]\n",
    "IOS_app_data = IOS_app_list[1:]"
   ]
  },
  {
   "cell_type": "code",
   "execution_count": 61,
   "metadata": {
    "collapsed": true
   },
   "outputs": [],
   "source": [
    "#Let's explore the data by seeing how it looks.\n",
    "\n",
    "#It's best to build a function that shows a few rows.\n",
    "\n",
    "def explore_dataset(dataset_list, start_index, end_index, rows_and_columns=False):\n",
    "    dataset_slice = dataset_list[start_index:end_index]    \n",
    "    for row in dataset_slice:\n",
    "        print(row)\n",
    "        print('\\n') # To add an empty line after each row printed\n",
    "\n",
    "    if rows_and_columns:\n",
    "        print('Number of rows:', len(dataset_list))\n",
    "        print('Number of columns:', len(dataset_list[0]))"
   ]
  },
  {
   "cell_type": "code",
   "execution_count": 62,
   "metadata": {},
   "outputs": [
    {
     "name": "stdout",
     "output_type": "stream",
     "text": [
      "['App', 'Category', 'Rating', 'Reviews', 'Size', 'Installs', 'Type', 'Price', 'Content Rating', 'Genres', 'Last Updated', 'Current Ver', 'Android Ver']\n",
      "\n",
      "\n",
      "['Photo Editor & Candy Camera & Grid & ScrapBook', 'ART_AND_DESIGN', '4.1', '159', '19M', '10,000+', 'Free', '0', 'Everyone', 'Art & Design', 'January 7, 2018', '1.0.0', '4.0.3 and up']\n",
      "\n",
      "\n",
      "['Coloring book moana', 'ART_AND_DESIGN', '3.9', '967', '14M', '500,000+', 'Free', '0', 'Everyone', 'Art & Design;Pretend Play', 'January 15, 2018', '2.0.0', '4.0.3 and up']\n",
      "\n",
      "\n",
      "['U Launcher Lite – FREE Live Cool Themes, Hide Apps', 'ART_AND_DESIGN', '4.7', '87510', '8.7M', '5,000,000+', 'Free', '0', 'Everyone', 'Art & Design', 'August 1, 2018', '1.2.4', '4.0.3 and up']\n",
      "\n",
      "\n",
      "['Sketch - Draw & Paint', 'ART_AND_DESIGN', '4.5', '215644', '25M', '50,000,000+', 'Free', '0', 'Teen', 'Art & Design', 'June 8, 2018', 'Varies with device', '4.2 and up']\n",
      "\n",
      "\n",
      "['Pixel Draw - Number Art Coloring Book', 'ART_AND_DESIGN', '4.3', '967', '2.8M', '100,000+', 'Free', '0', 'Everyone', 'Art & Design;Creativity', 'June 20, 2018', '1.1', '4.4 and up']\n",
      "\n",
      "\n",
      "Number of rows: 10841\n",
      "Number of columns: 13\n"
     ]
    }
   ],
   "source": [
    "#Exploring the Google Play dataset\n",
    "\n",
    "print(GP_app_header)\n",
    "print('\\n')\n",
    "explore_dataset(GP_app_data,0,5,True)"
   ]
  },
  {
   "cell_type": "markdown",
   "metadata": {},
   "source": [
    "#### Wow, it has 10,841 rows with 13 columns. So many!"
   ]
  },
  {
   "cell_type": "markdown",
   "metadata": {},
   "source": [
    "#### Everything except \"Last Update\", \"Current Ver\", and \"Android Ver\" look very relevant to what may be needed. I believe all the other columns can provide insight towards what type of apps might be ideal for the market."
   ]
  },
  {
   "cell_type": "code",
   "execution_count": 63,
   "metadata": {},
   "outputs": [
    {
     "name": "stdout",
     "output_type": "stream",
     "text": [
      "['id', 'track_name', 'size_bytes', 'currency', 'price', 'rating_count_tot', 'rating_count_ver', 'user_rating', 'user_rating_ver', 'ver', 'cont_rating', 'prime_genre', 'sup_devices.num', 'ipadSc_urls.num', 'lang.num', 'vpp_lic']\n",
      "\n",
      "\n",
      "['284882215', 'Facebook', '389879808', 'USD', '0.0', '2974676', '212', '3.5', '3.5', '95.0', '4+', 'Social Networking', '37', '1', '29', '1']\n",
      "\n",
      "\n",
      "['389801252', 'Instagram', '113954816', 'USD', '0.0', '2161558', '1289', '4.5', '4.0', '10.23', '12+', 'Photo & Video', '37', '0', '29', '1']\n",
      "\n",
      "\n",
      "['529479190', 'Clash of Clans', '116476928', 'USD', '0.0', '2130805', '579', '4.5', '4.5', '9.24.12', '9+', 'Games', '38', '5', '18', '1']\n",
      "\n",
      "\n",
      "['420009108', 'Temple Run', '65921024', 'USD', '0.0', '1724546', '3842', '4.5', '4.0', '1.6.2', '9+', 'Games', '40', '5', '1', '1']\n",
      "\n",
      "\n",
      "['284035177', 'Pandora - Music & Radio', '130242560', 'USD', '0.0', '1126879', '3594', '4.0', '4.5', '8.4.1', '12+', 'Music', '37', '4', '1', '1']\n",
      "\n",
      "\n",
      "Number of rows: 7197\n",
      "Number of columns: 16\n"
     ]
    }
   ],
   "source": [
    "#Exploring the IOS app store dataset\n",
    "\n",
    "print(IOS_app_header)\n",
    "print('\\n')\n",
    "explore_dataset(IOS_app_data,0,5,True)"
   ]
  },
  {
   "cell_type": "markdown",
   "metadata": {},
   "source": [
    "#### Much less than the Google Play store, yet it still has many, many apps, 7197 in this case with 16 columns."
   ]
  },
  {
   "cell_type": "markdown",
   "metadata": {},
   "source": [
    "#### I believe that 'user_rating_ver', 'ver',  'sup_devices.num', 'ipadSc_urls.num', 'lang.num', and 'vpp_lic' may not be necessary for our study. Everything else looks ideal for finding out what apps are popular."
   ]
  },
  {
   "cell_type": "markdown",
   "metadata": {},
   "source": [
    "## Removing Wrong Data\n",
    "\n",
    "\n",
    "### Deleting Incomplete Records"
   ]
  },
  {
   "cell_type": "markdown",
   "metadata": {},
   "source": [
    "I was thinking that there may exist empty fields in some columns, as well as some undesired duplicates. As an excel user who has done reports with and without pivot tables, I know how problematic it may become. I believe it is time to build two functions for these problems. I'll deal with the incomplete rows first."
   ]
  },
  {
   "cell_type": "code",
   "execution_count": 64,
   "metadata": {},
   "outputs": [],
   "source": [
    "#Time to build a function to find incomplete rows\n",
    "\n",
    "def Incomplete_row_finder (dataset_list, list_has_header=True, Or_tell_me_column_count=0):\n",
    "    index_counter = 0 #A rudimentary way to find index numbers\n",
    "    error_indexes = [] #The spots the errors will occur in\n",
    "    target_records = [] #A list that will hold all bad records\n",
    "    \n",
    "    if list_has_header:\n",
    "        column_count = len(dataset_list[0])\n",
    "        \n",
    "        for row in dataset_list:\n",
    "            length_x_row = len(row) #amount of elements per row\n",
    "            \n",
    "            if length_x_row == column_count:\n",
    "                index_counter+=1\n",
    "                \n",
    "            elif length_x_row != column_count:\n",
    "                error_indexes.append(index_counter)\n",
    "                index_counter+=1\n",
    "                target_records.append(row)\n",
    "            \n",
    "        \n",
    "    else:\n",
    "        \n",
    "        for row in dataset_list:\n",
    "            length_x_row = len(row)\n",
    "            \n",
    "            if length_x_row == Or_tell_me_column_count:\n",
    "                index_counter+=1\n",
    "                \n",
    "            elif length_x_row != Or_tell_me_column_count:\n",
    "                error_indexes.append(index_counter)\n",
    "                index_counter+=1\n",
    "                target_records.append(row)\n",
    "                \n",
    "    #The return will be the incomplete records and their indexes\n",
    "    \n",
    "    return target_records,error_indexes\n",
    "            "
   ]
  },
  {
   "cell_type": "code",
   "execution_count": 65,
   "metadata": {},
   "outputs": [
    {
     "name": "stdout",
     "output_type": "stream",
     "text": [
      "([['Life Made WI-Fi Touchscreen Photo Frame', '1.9', '19', '3.0M', '1,000+', 'Free', '0', 'Everyone', '', 'February 11, 2018', '1.0.19', '4.0 and up']], [10472])\n"
     ]
    }
   ],
   "source": [
    "GP_incomplete_row = Incomplete_row_finder(GP_app_data,False,13)\n",
    "print(GP_incomplete_row)"
   ]
  },
  {
   "cell_type": "code",
   "execution_count": 66,
   "metadata": {},
   "outputs": [
    {
     "name": "stdout",
     "output_type": "stream",
     "text": [
      "['Life Made WI-Fi Touchscreen Photo Frame', '1.9', '19', '3.0M', '1,000+', 'Free', '0', 'Everyone', '', 'February 11, 2018', '1.0.19', '4.0 and up']\n"
     ]
    }
   ],
   "source": [
    "#To verify if it worked\n",
    "print(GP_app_data[10472])"
   ]
  },
  {
   "cell_type": "markdown",
   "metadata": {},
   "source": [
    "#### Alright, the index returned by the function worked...and the function itself, as well. I'm very pleased that this can be applied to almost any dataset in list format we can find. The error happens in index 10473 for the Google Play app list. The genre is missing. For now, it can be safely erased because the genre is important."
   ]
  },
  {
   "cell_type": "code",
   "execution_count": 67,
   "metadata": {
    "collapsed": true
   },
   "outputs": [],
   "source": [
    "del GP_app_data[10472]"
   ]
  },
  {
   "cell_type": "code",
   "execution_count": 68,
   "metadata": {},
   "outputs": [
    {
     "name": "stdout",
     "output_type": "stream",
     "text": [
      "['Xposed Wi-Fi-Pwd', 'PERSONALIZATION', '3.5', '1042', '404k', '100,000+', 'Free', '0', 'Everyone', 'Personalization', 'August 5, 2014', '3.0.0', '4.0.3 and up']\n"
     ]
    }
   ],
   "source": [
    "print(GP_app_list[10472])"
   ]
  },
  {
   "cell_type": "markdown",
   "metadata": {},
   "source": [
    "#### Yes, it is definitely gone now."
   ]
  },
  {
   "cell_type": "markdown",
   "metadata": {},
   "source": [
    "#### Time to verify the IOS app store data. We might find interesting things there too."
   ]
  },
  {
   "cell_type": "code",
   "execution_count": 69,
   "metadata": {},
   "outputs": [
    {
     "name": "stdout",
     "output_type": "stream",
     "text": [
      "([], [])\n"
     ]
    }
   ],
   "source": [
    "IOS_app_incomplete_row = Incomplete_row_finder(IOS_app_data,False,16)\n",
    "print(IOS_app_incomplete_row)"
   ]
  },
  {
   "cell_type": "markdown",
   "metadata": {},
   "source": [
    "#### Really? Good news, no incomplete records in the ios app store data list."
   ]
  },
  {
   "cell_type": "markdown",
   "metadata": {
    "collapsed": true
   },
   "source": [
    "### Finding and Deleting Duplicates"
   ]
  },
  {
   "cell_type": "markdown",
   "metadata": {},
   "source": [
    "#### Why not build a duplicate finder function? The one right here is my own, built by me. The next one I'll include is based on selective deletion. My version is a duplicate finder and assumes you will erase duplicates and leave one original by giving you their indexes. The other version identifies the duplicates without indexes, but it fits the intentions of not erasing duplicates indiscriminately. "
   ]
  },
  {
   "cell_type": "code",
   "execution_count": 70,
   "metadata": {
    "collapsed": true
   },
   "outputs": [],
   "source": [
    "def duplicate_finder (dataset_list,target_column_index,option):\n",
    "    \n",
    "    freq_items = {} # Counting the times an item is found\n",
    "    Dup_freq_items ={} #Tallying the duplicates by item\n",
    "    index_counter = 0 #A rudimentary way of finding the index number\n",
    "    Duplicate_list = [] #The duplicates' index numbers\n",
    "    Dup_counter = 0 #To know how many duplicates occured in total, one raw number\n",
    "    \n",
    "    for row in dataset_list:\n",
    "        \n",
    "        target = row[target_column_index]\n",
    "     \n",
    "    #If the target exist already in the frequency of items\n",
    "    \n",
    "        if target in freq_items:\n",
    "            Duplicate_list.append(index_counter)\n",
    "            Dup_counter+=1\n",
    "            index_counter+=1 #Always at the end to have correct number\n",
    "            freq_items[target]+=1\n",
    "            \n",
    "            if target in Dup_freq_items:\n",
    "                Dup_freq_items[target]+=1\n",
    "                \n",
    "            else:\n",
    "                Dup_freq_items[target]=2 #To include the times the record occurs, including the originals\n",
    "            \n",
    "        else:\n",
    "            index_counter+=1\n",
    "            freq_items[target]=1\n",
    "    \n",
    "    # You can choose to get the count, frequency or index numbers of duplicates\n",
    "    \n",
    "    if option == 'count':\n",
    "        return Dup_counter\n",
    "    elif option == 'frequency':\n",
    "        return Dup_freq_items\n",
    "    elif option == 'index':\n",
    "        return Duplicate_list"
   ]
  },
  {
   "cell_type": "code",
   "execution_count": 71,
   "metadata": {},
   "outputs": [],
   "source": [
    "Duplicate_GP_count = duplicate_finder(GP_app_data,0,'count')"
   ]
  },
  {
   "cell_type": "code",
   "execution_count": 72,
   "metadata": {},
   "outputs": [
    {
     "name": "stdout",
     "output_type": "stream",
     "text": [
      "1181\n"
     ]
    }
   ],
   "source": [
    "print(Duplicate_GP_count)"
   ]
  },
  {
   "cell_type": "code",
   "execution_count": 73,
   "metadata": {
    "collapsed": true
   },
   "outputs": [],
   "source": [
    "def duplicate_identifier(dataset_list,target_column_index):\n",
    "    unique_items = []\n",
    "    duplicate_items = []\n",
    "    for row in dataset_list:\n",
    "        \n",
    "        target = row[target_column_index]\n",
    "        \n",
    "        if target in unique_items:\n",
    "            duplicate_items.append(target)\n",
    "        else:\n",
    "            unique_items.append(target)\n",
    "            \n",
    "    return duplicate_items"
   ]
  },
  {
   "cell_type": "markdown",
   "metadata": {},
   "source": [
    "#### Let's look at the google app data."
   ]
  },
  {
   "cell_type": "code",
   "execution_count": 74,
   "metadata": {},
   "outputs": [
    {
     "name": "stdout",
     "output_type": "stream",
     "text": [
      "1181\n",
      "\n",
      "\n",
      "['Quick PDF Scanner + OCR FREE', 'Box', 'Google My Business', 'ZOOM Cloud Meetings', 'join.me - Simple Meetings', 'Box', 'Zenefits', 'Google Ads', 'Google My Business', 'Slack', 'FreshBooks Classic', 'Insightly CRM', 'QuickBooks Accounting: Invoicing & Expenses', 'HipChat - Chat Built for Teams', 'Xero Accounting Software']\n"
     ]
    }
   ],
   "source": [
    "GP_app_dups = duplicate_identifier(GP_app_data,0)\n",
    "print(len(GP_app_dups))\n",
    "print('\\n')\n",
    "print(GP_app_dups[:15])"
   ]
  },
  {
   "cell_type": "markdown",
   "metadata": {},
   "source": [
    "#### I wonder if there is anything different about the duplicates. Let's check with two examples."
   ]
  },
  {
   "cell_type": "code",
   "execution_count": 75,
   "metadata": {},
   "outputs": [
    {
     "name": "stdout",
     "output_type": "stream",
     "text": [
      "['Google Ads', 'BUSINESS', '4.3', '29313', '20M', '5,000,000+', 'Free', '0', 'Everyone', 'Business', 'July 30, 2018', '1.12.0', '4.0.3 and up']\n",
      "['Google Ads', 'BUSINESS', '4.3', '29313', '20M', '5,000,000+', 'Free', '0', 'Everyone', 'Business', 'July 30, 2018', '1.12.0', '4.0.3 and up']\n",
      "['Google Ads', 'BUSINESS', '4.3', '29331', '20M', '5,000,000+', 'Free', '0', 'Everyone', 'Business', 'July 30, 2018', '1.12.0', '4.0.3 and up']\n"
     ]
    }
   ],
   "source": [
    "for app in GP_app_data:\n",
    "    name = app[0]\n",
    "    if name == 'Google Ads':\n",
    "        print(app)"
   ]
  },
  {
   "cell_type": "code",
   "execution_count": 76,
   "metadata": {},
   "outputs": [
    {
     "name": "stdout",
     "output_type": "stream",
     "text": [
      "['Quick PDF Scanner + OCR FREE', 'BUSINESS', '4.2', '80805', 'Varies with device', '5,000,000+', 'Free', '0', 'Everyone', 'Business', 'February 26, 2018', 'Varies with device', '4.0.3 and up']\n",
      "['Quick PDF Scanner + OCR FREE', 'BUSINESS', '4.2', '80805', 'Varies with device', '5,000,000+', 'Free', '0', 'Everyone', 'Business', 'February 26, 2018', 'Varies with device', '4.0.3 and up']\n",
      "['Quick PDF Scanner + OCR FREE', 'BUSINESS', '4.2', '80804', 'Varies with device', '5,000,000+', 'Free', '0', 'Everyone', 'Business', 'February 26, 2018', 'Varies with device', '4.0.3 and up']\n"
     ]
    }
   ],
   "source": [
    "for app in GP_app_data:\n",
    "    name = app[0]\n",
    "    if name == 'Quick PDF Scanner + OCR FREE':\n",
    "        print(app)"
   ]
  },
  {
   "cell_type": "code",
   "execution_count": 77,
   "metadata": {},
   "outputs": [
    {
     "name": "stdout",
     "output_type": "stream",
     "text": [
      "['App', 'Category', 'Rating', 'Reviews', 'Size', 'Installs', 'Type', 'Price', 'Content Rating', 'Genres', 'Last Updated', 'Current Ver', 'Android Ver']\n"
     ]
    }
   ],
   "source": [
    "print(GP_app_header) #For pinpointing the change"
   ]
  },
  {
   "cell_type": "markdown",
   "metadata": {},
   "source": [
    "#### It's the fourth column that is changing. Interesting...It references the amount of reviews the application receives. When I remove these, I'm just going to leave the highest amount of reviews for the duplicates."
   ]
  },
  {
   "cell_type": "markdown",
   "metadata": {},
   "source": [
    "#### Let's verify the ios_app_store."
   ]
  },
  {
   "cell_type": "code",
   "execution_count": 78,
   "metadata": {},
   "outputs": [
    {
     "name": "stdout",
     "output_type": "stream",
     "text": [
      "2\n",
      "\n",
      "\n",
      "['Mannequin Challenge', 'VR Roller Coaster']\n"
     ]
    }
   ],
   "source": [
    "IOS_app_store_dups = duplicate_identifier(IOS_app_data,1)\n",
    "print(len(IOS_app_store_dups))\n",
    "print('\\n')\n",
    "print(IOS_app_store_dups[:15])"
   ]
  },
  {
   "cell_type": "markdown",
   "metadata": {},
   "source": [
    "#### There are 2 duplicates. Now, let's have a look to see if they are different. "
   ]
  },
  {
   "cell_type": "code",
   "execution_count": 79,
   "metadata": {},
   "outputs": [
    {
     "name": "stdout",
     "output_type": "stream",
     "text": [
      "['1173990889', 'Mannequin Challenge', '109705216', 'USD', '0.0', '668', '87', '3.0', '3.0', '1.4', '9+', 'Games', '37', '4', '1', '1']\n",
      "['1178454060', 'Mannequin Challenge', '59572224', 'USD', '0.0', '105', '58', '4.0', '4.5', '1.0.1', '4+', 'Games', '38', '5', '1', '1']\n"
     ]
    }
   ],
   "source": [
    "for app in IOS_app_data:\n",
    "    name = app[1]\n",
    "    if name == 'Mannequin Challenge':\n",
    "        print(app)"
   ]
  },
  {
   "cell_type": "code",
   "execution_count": 80,
   "metadata": {},
   "outputs": [
    {
     "name": "stdout",
     "output_type": "stream",
     "text": [
      "['952877179', 'VR Roller Coaster', '169523200', 'USD', '0.0', '107', '102', '3.5', '3.5', '2.0.0', '4+', 'Games', '37', '5', '1', '1']\n",
      "['1089824278', 'VR Roller Coaster', '240964608', 'USD', '0.0', '67', '44', '3.5', '4.0', '0.81', '4+', 'Games', '38', '0', '1', '1']\n"
     ]
    }
   ],
   "source": [
    "for app in IOS_app_data:\n",
    "    name = app[1]\n",
    "    if name == 'VR Roller Coaster':\n",
    "        print(app)"
   ]
  },
  {
   "cell_type": "code",
   "execution_count": 81,
   "metadata": {},
   "outputs": [
    {
     "name": "stdout",
     "output_type": "stream",
     "text": [
      "['id', 'track_name', 'size_bytes', 'currency', 'price', 'rating_count_tot', 'rating_count_ver', 'user_rating', 'user_rating_ver', 'ver', 'cont_rating', 'prime_genre', 'sup_devices.num', 'ipadSc_urls.num', 'lang.num', 'vpp_lic']\n"
     ]
    }
   ],
   "source": [
    "print(IOS_app_header)"
   ]
  },
  {
   "cell_type": "markdown",
   "metadata": {},
   "source": [
    "#### 'rating_count_tot', 'rating_count_ver, 'user_rating_ver', 'ver','sup_devices.num', 'ipadSc_urls.num' appear to be the columns changing. For \"mannequin\" in particular, the 'cont_rating' changed from 4+ to 9+. For IOS, I think keeping the most recent versions and erasing the older duplicates will be better."
   ]
  },
  {
   "cell_type": "markdown",
   "metadata": {
    "collapsed": true
   },
   "source": [
    "### Removing Duplicates: Google Play data and IOS App Store data"
   ]
  },
  {
   "cell_type": "markdown",
   "metadata": {
    "collapsed": true
   },
   "source": [
    "How many originals will we have after cleaning the Google Play data?"
   ]
  },
  {
   "cell_type": "code",
   "execution_count": 82,
   "metadata": {},
   "outputs": [
    {
     "data": {
      "text/plain": [
       "9659"
      ]
     },
     "execution_count": 82,
     "metadata": {},
     "output_type": "execute_result"
    }
   ],
   "source": [
    "len(GP_app_data)-len(GP_app_dups)"
   ]
  },
  {
   "cell_type": "markdown",
   "metadata": {},
   "source": [
    "9659 is our target, excellent. Time to selectively delete these duplicates by getting rid of the ones with lower ratings."
   ]
  },
  {
   "cell_type": "code",
   "execution_count": 83,
   "metadata": {},
   "outputs": [],
   "source": [
    "def duplicate_deleter_x(data_set_list_mode,name_index,comparison_index):\n",
    "    \n",
    "    dictionary_of_criteria = {} #Function for numeric-based\n",
    "                                #duplicate deletions\n",
    "    \n",
    "    for row in data_set_list_mode:\n",
    "        \n",
    "        name = row[name_index] #Name or ID of item\n",
    "        comparison_item = row[comparison_index] #Value of item compared\n",
    "        \n",
    "        if name in dictionary_of_criteria:\n",
    "            \n",
    "            if comparison_item > dictionary_of_criteria[name]:\n",
    "                    dictionary_of_criteria[name]=comparison_item\n",
    "                    \n",
    "            elif comparison_item <= dictionary_of_criteria[name]:\n",
    "                del row\n",
    "        else:\n",
    "            dictionary_of_criteria[name]=comparison_item\n",
    "    \n",
    "    "
   ]
  },
  {
   "cell_type": "code",
   "execution_count": 84,
   "metadata": {},
   "outputs": [],
   "source": [
    "Test_list = ['A',1,2,3,4,5,6,]"
   ]
  },
  {
   "cell_type": "markdown",
   "metadata": {},
   "source": [
    "#### First, the highest number of reviews can be isolated in a single dictionary for the Google apps data"
   ]
  },
  {
   "cell_type": "code",
   "execution_count": 85,
   "metadata": {},
   "outputs": [
    {
     "data": {
      "text/plain": [
       "9659"
      ]
     },
     "execution_count": 85,
     "metadata": {},
     "output_type": "execute_result"
    }
   ],
   "source": [
    "reviews_max = {}\n",
    "for row in GP_app_data:\n",
    "    name = row[0]\n",
    "    n_reviews = float(row[3])\n",
    "    \n",
    "    if name in reviews_max and reviews_max[name] < n_reviews:\n",
    "        reviews_max[name]=n_reviews\n",
    "        \n",
    "    elif name not in reviews_max:\n",
    "        reviews_max[name]=n_reviews\n",
    "\n",
    "len(reviews_max)"
   ]
  },
  {
   "cell_type": "markdown",
   "metadata": {},
   "source": [
    "#### The next thing that can be done is to add the records who match the highest number of reviews only once to the list android_clean. The app of the record added then gets appended to the already_added list. If the app matches the highest number of reviews, but was preexistent in the already_added list, it will not be appended to the android_clean list."
   ]
  },
  {
   "cell_type": "code",
   "execution_count": 86,
   "metadata": {},
   "outputs": [
    {
     "name": "stdout",
     "output_type": "stream",
     "text": [
      "9659\n",
      "['Photo Editor & Candy Camera & Grid & ScrapBook', 'ART_AND_DESIGN', '4.1', '159', '19M', '10,000+', 'Free', '0', 'Everyone', 'Art & Design', 'January 7, 2018', '1.0.0', '4.0.3 and up']\n"
     ]
    }
   ],
   "source": [
    "android_clean =[]\n",
    "already_added = []\n",
    "\n",
    "for row in GP_app_data:\n",
    "    name = row[0]\n",
    "    n_reviews = float(row[3])\n",
    "    \n",
    "    if reviews_max[name] == n_reviews and name not in already_added:\n",
    "        android_clean.append(row)\n",
    "        already_added.append(name)\n",
    "    \n",
    "\n",
    "print(len(android_clean))\n",
    "print(android_clean[0])"
   ]
  },
  {
   "cell_type": "markdown",
   "metadata": {
    "collapsed": true
   },
   "source": [
    "#### For the IOS App Store data, the dataset had two true duplicates. The plan to proceed will be to keep the most recent versions of those apps. Finding the indexes of the target duplicates would be ideal."
   ]
  },
  {
   "cell_type": "code",
   "execution_count": 87,
   "metadata": {},
   "outputs": [
    {
     "name": "stdout",
     "output_type": "stream",
     "text": [
      "[[2948, 'Mannequin Challenge'], [4442, 'VR Roller Coaster'], [4463, 'Mannequin Challenge'], [4831, 'VR Roller Coaster']]\n",
      "\n",
      "\n",
      "['1173990889', 'Mannequin Challenge', '109705216', 'USD', '0.0', '668', '87', '3.0', '3.0', '1.4', '9+', 'Games', '37', '4', '1', '1'] corresponds to  2948\n",
      "\n",
      "\n",
      "['952877179', 'VR Roller Coaster', '169523200', 'USD', '0.0', '107', '102', '3.5', '3.5', '2.0.0', '4+', 'Games', '37', '5', '1', '1'] corresponds to  4442\n",
      "\n",
      "\n",
      "['1178454060', 'Mannequin Challenge', '59572224', 'USD', '0.0', '105', '58', '4.0', '4.5', '1.0.1', '4+', 'Games', '38', '5', '1', '1'] corresponds to  4463\n",
      "\n",
      "\n",
      "['1089824278', 'VR Roller Coaster', '240964608', 'USD', '0.0', '67', '44', '3.5', '4.0', '0.81', '4+', 'Games', '38', '0', '1', '1'] corresponds to  4831\n",
      "\n",
      "\n"
     ]
    }
   ],
   "source": [
    "counter_for_ios_app_data = 0 #To count index number\n",
    "duplicate_indexes_ios = [] #To record indexes and duplicates\n",
    "duplicate_indexes_ios_counter_only = [] #To record only indexes of duplicates\n",
    "\n",
    "for app in IOS_app_data:\n",
    "    \n",
    "    name = app[1]\n",
    "    if name == 'Mannequin Challenge' or name == 'VR Roller Coaster':\n",
    "        duplicate_indexes_ios_counter_only.append(counter_for_ios_app_data)\n",
    "        duplicate_indexes_ios.append([counter_for_ios_app_data,name])\n",
    "        counter_for_ios_app_data+=1\n",
    "    \n",
    "    else:\n",
    "        counter_for_ios_app_data+=1\n",
    "        \n",
    "print(duplicate_indexes_ios) #To show the duplicate items and indexes\n",
    "\n",
    "print('\\n') # Empty row to help readibility\n",
    "\n",
    "for index in duplicate_indexes_ios_counter_only:\n",
    "    print(IOS_app_data[index],\"corresponds to \", index)\n",
    "    print('\\n') #The end result shows all duplicates for examination"
   ]
  },
  {
   "cell_type": "markdown",
   "metadata": {},
   "source": [
    "#### Perfect. Now the indexes for the apps identified as duplicates in an earlier block are known. The most recent versions for \"Mannequin Challenge\" and \"VR Roller Coaster\" are 1.4 and 2.0.0 respectively. Therefore, only the entries at indexes at 4463 and 4831 should be erased."
   ]
  },
  {
   "cell_type": "code",
   "execution_count": 88,
   "metadata": {
    "collapsed": true
   },
   "outputs": [],
   "source": [
    "del IOS_app_data[4463]\n",
    "del IOS_app_data[4831]"
   ]
  },
  {
   "cell_type": "code",
   "execution_count": 89,
   "metadata": {},
   "outputs": [
    {
     "name": "stdout",
     "output_type": "stream",
     "text": [
      "['1041406978', 'DOFUS Touch', '3366912', 'USD', '0.0', '104', '3', '4.0', '4.0', '1.9.28', '12+', 'Games', '37', '5', '6', '1'] \n",
      " ['1062002361', 'LumaFX - infinite video effects', '13921280', 'USD', '2.99', '67', '11', '4.0', '4.5', '2.0.3', '4+', 'Photo & Video', '37', '5', '8', '1']\n"
     ]
    }
   ],
   "source": [
    "#To see if it changed successfully\n",
    "print(IOS_app_data[4463],\"\\n\",IOS_app_data[4831])"
   ]
  },
  {
   "cell_type": "markdown",
   "metadata": {
    "collapsed": true
   },
   "source": [
    "### Deleting apps in non-English languages"
   ]
  },
  {
   "cell_type": "markdown",
   "metadata": {},
   "source": [
    "#### It is imperative to remember the company builds apps in English only. Therefore, it is important to only work with data that caters to an English Speaking audience. Trying to write an english checking function might be a good solution. It is useful to remember that Emojis and character combinations such as TM might be identified as non-English if the \"ord\" function is used because it is over 127. Characters from 0 to 127 are commonly used in the English alphabet. To avoid so much data loss, a good alternative can be to eliminate apps who have more than three characters beyond 127. To be safe, the function will be tested with some app names and other characters."
   ]
  },
  {
   "cell_type": "code",
   "execution_count": 90,
   "metadata": {},
   "outputs": [],
   "source": [
    "def English_checker(string):\n",
    "\n",
    "    Non_English_language_counter = 0\n",
    "    \n",
    "    for character in string:\n",
    "        \n",
    "        if ord(character)>127:\n",
    "            Non_English_language_counter+=1\n",
    "            \n",
    "    if Non_English_language_counter > 3:\n",
    "        return False # This will make sense later in the for string\n",
    "    \n",
    "    else:\n",
    "        return True #If English, it will be true"
   ]
  },
  {
   "cell_type": "code",
   "execution_count": 91,
   "metadata": {},
   "outputs": [
    {
     "data": {
      "text/plain": [
       "True"
      ]
     },
     "execution_count": 91,
     "metadata": {},
     "output_type": "execute_result"
    }
   ],
   "source": [
    "English_checker('Instagram')"
   ]
  },
  {
   "cell_type": "code",
   "execution_count": 92,
   "metadata": {},
   "outputs": [
    {
     "data": {
      "text/plain": [
       "True"
      ]
     },
     "execution_count": 92,
     "metadata": {},
     "output_type": "execute_result"
    }
   ],
   "source": [
    "English_checker('Docs To Go™ Free Office Suite')"
   ]
  },
  {
   "cell_type": "code",
   "execution_count": 93,
   "metadata": {},
   "outputs": [
    {
     "data": {
      "text/plain": [
       "True"
      ]
     },
     "execution_count": 93,
     "metadata": {},
     "output_type": "execute_result"
    }
   ],
   "source": [
    "English_checker('™')"
   ]
  },
  {
   "cell_type": "code",
   "execution_count": 94,
   "metadata": {},
   "outputs": [
    {
     "data": {
      "text/plain": [
       "True"
      ]
     },
     "execution_count": 94,
     "metadata": {},
     "output_type": "execute_result"
    }
   ],
   "source": [
    "English_checker('Instachat 😜')"
   ]
  },
  {
   "cell_type": "code",
   "execution_count": 95,
   "metadata": {},
   "outputs": [
    {
     "data": {
      "text/plain": [
       "False"
      ]
     },
     "execution_count": 95,
     "metadata": {},
     "output_type": "execute_result"
    }
   ],
   "source": [
    "English_checker('爱奇艺PPS -《欢乐颂2》电视剧热播')"
   ]
  },
  {
   "cell_type": "markdown",
   "metadata": {
    "collapsed": true
   },
   "source": [
    "#### As it seems ready for use, time to use it on the Google Play and IOS app store datasets to see how many apps will be removed."
   ]
  },
  {
   "cell_type": "code",
   "execution_count": 96,
   "metadata": {},
   "outputs": [
    {
     "name": "stdout",
     "output_type": "stream",
     "text": [
      "Before the removal of non-English apps: 9659\n",
      "\n",
      "\n",
      "After the removal of non-English apps: 9614\n"
     ]
    }
   ],
   "source": [
    "#Google Play\n",
    "\n",
    "print('Before the removal of non-English apps:',len(android_clean))\n",
    "\n",
    "android_clean_English = []\n",
    "\n",
    "for row in android_clean:\n",
    "    name = row[0]\n",
    "    if English_checker(name):\n",
    "        android_clean_English.append(row)\n",
    "        \n",
    "print('\\n')\n",
    "print('After the removal of non-English apps:',len(android_clean_English))"
   ]
  },
  {
   "cell_type": "code",
   "execution_count": 97,
   "metadata": {},
   "outputs": [
    {
     "name": "stdout",
     "output_type": "stream",
     "text": [
      "Before the removal of non-English apps: 7195\n",
      "\n",
      "\n",
      "After the removal of non-English apps: 6181\n"
     ]
    }
   ],
   "source": [
    "#IOS app store\n",
    "\n",
    "print('Before the removal of non-English apps:',len(IOS_app_data))\n",
    "\n",
    "IOS_app_data_English = []\n",
    "\n",
    "for row in IOS_app_data:\n",
    "    name = row[1]\n",
    "    if English_checker(name):\n",
    "        IOS_app_data_English.append(row)\n",
    "        \n",
    "print('\\n')\n",
    "print('After the removal of non-English apps:',len(IOS_app_data_English))"
   ]
  },
  {
   "cell_type": "markdown",
   "metadata": {},
   "source": [
    "#### Small and larger differences are seen here. The Google Play dataset had 45 non-English apps removed for a new total of 9614 apps. The IOS app store data set had 1014 apps removed for a new total of 6181 apps."
   ]
  },
  {
   "cell_type": "markdown",
   "metadata": {},
   "source": [
    "### Some good old data cleaning Pt.4: Deleting apps that are not free. \n",
    "\n",
    "#### The company has a preference for making free apps, where the main source of revenue is in-app ads. To execute this step, isolating them once more according to this criteria could be a good solution. "
   ]
  },
  {
   "cell_type": "code",
   "execution_count": 98,
   "metadata": {},
   "outputs": [
    {
     "name": "stdout",
     "output_type": "stream",
     "text": [
      "Before the removal of paid apps:  9614\n",
      "After the removal of paid apps:  8863\n"
     ]
    }
   ],
   "source": [
    "# Google Play apps in English cleaned earlier\n",
    "\n",
    "print('Before the removal of paid apps: ',len(android_clean_English))\n",
    "\n",
    "android_clean_English_free = []\n",
    "\n",
    "for row in android_clean_English:\n",
    "    price = row[-7]\n",
    "    if price == 'Free':\n",
    "        android_clean_English_free.append(row)\n",
    "\n",
    "print('After the removal of paid apps: ',len(android_clean_English_free))\n",
    "      "
   ]
  },
  {
   "cell_type": "code",
   "execution_count": 99,
   "metadata": {},
   "outputs": [
    {
     "name": "stdout",
     "output_type": "stream",
     "text": [
      "Before the removal of paid apps:  6181\n",
      "After the removal of paid apps:  3221\n"
     ]
    }
   ],
   "source": [
    "# Now for the IOS apps in English\n",
    "\n",
    "\n",
    "print('Before the removal of paid apps: ',len(IOS_app_data_English))\n",
    "\n",
    "IOS_app_data_English_free = []\n",
    "\n",
    "for row in IOS_app_data_English:\n",
    "    price = float(row[4])\n",
    "    if price == 0:\n",
    "        IOS_app_data_English_free.append(row)\n",
    "\n",
    "print('After the removal of paid apps: ',len(IOS_app_data_English_free))\n",
    "   "
   ]
  },
  {
   "cell_type": "markdown",
   "metadata": {},
   "source": [
    "#### The Google Play app list had 751 paid apps removed, and it has a new total 8,872 apps. The IOS app store list had many more paid apps removed by comparison, 2,960 of them, and now it has a new total of 3,221 apps. This lets us learn that a higher concentration of paid apps are in the apple store, and a higher saturation of free apps are in the Google Play store. "
   ]
  },
  {
   "cell_type": "markdown",
   "metadata": {},
   "source": [
    "### Identifying a profitable app profile"
   ]
  },
  {
   "cell_type": "markdown",
   "metadata": {},
   "source": [
    "#### The company has three steps for its apps:\n",
    "\n",
    "   #### 1. It builds a minimal Android version of the app and launches it on Google Play.\n",
    "\n",
    "   #### 2. If it gets a good response, it gets developed further.\n",
    "\n",
    "   #### 3. If the app is profitable after six months, a version is made for ios and launches on the App Store."
   ]
  },
  {
   "cell_type": "markdown",
   "metadata": {
    "collapsed": true
   },
   "source": [
    "#### To identify what potential types of apps to make, taking a look at the frequency of the app categories or genres might be an efficient starting point. A frequency table function that outputs in percentages and something that sorts it from greatest to smallest will be the next steps."
   ]
  },
  {
   "cell_type": "code",
   "execution_count": 100,
   "metadata": {},
   "outputs": [],
   "source": [
    "def freq_table (dataset, target_index):\n",
    "    end_freq_table = {}\n",
    "    number_of_column_entries = 0\n",
    "    \n",
    "    for row in dataset:\n",
    "        item = row[target_index]\n",
    "        if item in end_freq_table:\n",
    "            end_freq_table[item]+=1\n",
    "            number_of_column_entries+=1\n",
    "        else:\n",
    "            end_freq_table[item]=1\n",
    "            number_of_column_entries+=1\n",
    "            \n",
    "    return end_freq_table"
   ]
  },
  {
   "cell_type": "markdown",
   "metadata": {},
   "source": [
    "#### Now what will sort the frequency table is the next step."
   ]
  },
  {
   "cell_type": "code",
   "execution_count": 101,
   "metadata": {
    "collapsed": true
   },
   "outputs": [],
   "source": [
    "def display_table(dataset, index):\n",
    "    table = freq_table(dataset, index)\n",
    "    table_display = []\n",
    "    for key in table:\n",
    "        key_val_as_tuple = (table[key], key)\n",
    "        table_display.append(key_val_as_tuple)\n",
    "\n",
    "    table_sorted = sorted(table_display, reverse = True)\n",
    "    for entry in table_sorted:\n",
    "        print(entry[1], ':', entry[0])"
   ]
  },
  {
   "cell_type": "markdown",
   "metadata": {},
   "source": [
    "#### The Google Play store has the \"Genres\" and \"Category\" columns."
   ]
  },
  {
   "cell_type": "code",
   "execution_count": 102,
   "metadata": {},
   "outputs": [
    {
     "name": "stdout",
     "output_type": "stream",
     "text": [
      "FAMILY : 1675\n",
      "GAME : 862\n",
      "TOOLS : 750\n",
      "BUSINESS : 407\n",
      "LIFESTYLE : 346\n",
      "PRODUCTIVITY : 345\n",
      "FINANCE : 328\n",
      "MEDICAL : 313\n",
      "SPORTS : 301\n",
      "PERSONALIZATION : 294\n",
      "COMMUNICATION : 287\n",
      "HEALTH_AND_FITNESS : 273\n",
      "PHOTOGRAPHY : 261\n",
      "NEWS_AND_MAGAZINES : 248\n",
      "SOCIAL : 236\n",
      "TRAVEL_AND_LOCAL : 207\n",
      "SHOPPING : 199\n",
      "BOOKS_AND_REFERENCE : 190\n",
      "DATING : 165\n",
      "VIDEO_PLAYERS : 159\n",
      "MAPS_AND_NAVIGATION : 124\n",
      "FOOD_AND_DRINK : 110\n",
      "EDUCATION : 103\n",
      "ENTERTAINMENT : 85\n",
      "LIBRARIES_AND_DEMO : 83\n",
      "AUTO_AND_VEHICLES : 82\n",
      "HOUSE_AND_HOME : 73\n",
      "WEATHER : 71\n",
      "EVENTS : 63\n",
      "PARENTING : 58\n",
      "ART_AND_DESIGN : 57\n",
      "COMICS : 55\n",
      "BEAUTY : 53\n"
     ]
    }
   ],
   "source": [
    "#Google Play\n",
    "GP_Category = display_table(android_clean_English_free,1)"
   ]
  },
  {
   "cell_type": "code",
   "execution_count": 103,
   "metadata": {},
   "outputs": [
    {
     "name": "stdout",
     "output_type": "stream",
     "text": [
      "Tools : 749\n",
      "Entertainment : 538\n",
      "Education : 474\n",
      "Business : 407\n",
      "Productivity : 345\n",
      "Lifestyle : 345\n",
      "Finance : 328\n",
      "Medical : 313\n",
      "Sports : 307\n",
      "Personalization : 294\n",
      "Communication : 287\n",
      "Action : 275\n",
      "Health & Fitness : 273\n",
      "Photography : 261\n",
      "News & Magazines : 248\n",
      "Social : 236\n",
      "Travel & Local : 206\n",
      "Shopping : 199\n",
      "Books & Reference : 190\n",
      "Simulation : 181\n",
      "Dating : 165\n",
      "Arcade : 164\n",
      "Video Players & Editors : 157\n",
      "Casual : 156\n",
      "Maps & Navigation : 124\n",
      "Food & Drink : 110\n",
      "Puzzle : 100\n",
      "Racing : 88\n",
      "Role Playing : 83\n",
      "Libraries & Demo : 83\n",
      "Auto & Vehicles : 82\n",
      "Strategy : 80\n",
      "House & Home : 73\n",
      "Weather : 71\n",
      "Events : 63\n",
      "Adventure : 60\n",
      "Comics : 54\n",
      "Beauty : 53\n",
      "Art & Design : 53\n",
      "Parenting : 44\n",
      "Card : 40\n",
      "Casino : 38\n",
      "Trivia : 37\n",
      "Educational;Education : 35\n",
      "Board : 34\n",
      "Educational : 33\n",
      "Education;Education : 30\n",
      "Word : 23\n",
      "Casual;Pretend Play : 21\n",
      "Music : 18\n",
      "Racing;Action & Adventure : 15\n",
      "Puzzle;Brain Games : 15\n",
      "Entertainment;Music & Video : 15\n",
      "Casual;Brain Games : 12\n",
      "Casual;Action & Adventure : 12\n",
      "Arcade;Action & Adventure : 11\n",
      "Action;Action & Adventure : 9\n",
      "Educational;Pretend Play : 8\n",
      "Simulation;Action & Adventure : 7\n",
      "Parenting;Education : 7\n",
      "Entertainment;Brain Games : 7\n",
      "Board;Brain Games : 7\n",
      "Parenting;Music & Video : 6\n",
      "Educational;Brain Games : 6\n",
      "Casual;Creativity : 6\n",
      "Art & Design;Creativity : 6\n",
      "Education;Pretend Play : 5\n",
      "Role Playing;Pretend Play : 4\n",
      "Education;Creativity : 4\n",
      "Role Playing;Action & Adventure : 3\n",
      "Puzzle;Action & Adventure : 3\n",
      "Entertainment;Creativity : 3\n",
      "Entertainment;Action & Adventure : 3\n",
      "Educational;Creativity : 3\n",
      "Educational;Action & Adventure : 3\n",
      "Education;Music & Video : 3\n",
      "Education;Brain Games : 3\n",
      "Education;Action & Adventure : 3\n",
      "Adventure;Action & Adventure : 3\n",
      "Video Players & Editors;Music & Video : 2\n",
      "Sports;Action & Adventure : 2\n",
      "Simulation;Pretend Play : 2\n",
      "Puzzle;Creativity : 2\n",
      "Music;Music & Video : 2\n",
      "Entertainment;Pretend Play : 2\n",
      "Casual;Education : 2\n",
      "Board;Action & Adventure : 2\n",
      "Video Players & Editors;Creativity : 1\n",
      "Trivia;Education : 1\n",
      "Travel & Local;Action & Adventure : 1\n",
      "Tools;Education : 1\n",
      "Strategy;Education : 1\n",
      "Strategy;Creativity : 1\n",
      "Strategy;Action & Adventure : 1\n",
      "Simulation;Education : 1\n",
      "Role Playing;Brain Games : 1\n",
      "Racing;Pretend Play : 1\n",
      "Puzzle;Education : 1\n",
      "Parenting;Brain Games : 1\n",
      "Music & Audio;Music & Video : 1\n",
      "Lifestyle;Pretend Play : 1\n",
      "Lifestyle;Education : 1\n",
      "Health & Fitness;Education : 1\n",
      "Health & Fitness;Action & Adventure : 1\n",
      "Entertainment;Education : 1\n",
      "Communication;Creativity : 1\n",
      "Comics;Creativity : 1\n",
      "Casual;Music & Video : 1\n",
      "Card;Action & Adventure : 1\n",
      "Books & Reference;Education : 1\n",
      "Art & Design;Pretend Play : 1\n",
      "Art & Design;Action & Adventure : 1\n",
      "Arcade;Pretend Play : 1\n",
      "Adventure;Education : 1\n"
     ]
    }
   ],
   "source": [
    "#Google Play\n",
    "GP_Genres = display_table(android_clean_English_free,-4)"
   ]
  },
  {
   "cell_type": "markdown",
   "metadata": {},
   "source": [
    "### Google Play - free and english app insights:\n",
    "\n",
    "#### 1) What are the most common genres?\n",
    "\n",
    "The most commong genres appear to be, for genres, family games and tools. For category, they are tools, entertainment, and education.\n",
    "\n",
    "#### 2) What other patterns can be seen?\n",
    "\n",
    "While family, game and tool apps are among the strongest contenders, summatively speaking, the other apps tend to live in the realm of specific services, and other forms of social media, and lifestyle oriented applications.. \n",
    "\n",
    "\n",
    "#### 3) What is the general impression — are most of the apps designed for practical purposes (education, shopping, utilities, productivity, lifestyle) or more for entertainment (games, photo and video, social networking, sports, music)? Compare patterns with IOS insights.\n",
    "\n",
    "The apps here, unlike the IOS counterpart, are less game centric and appear to be more \"family\", \"tool\", and \"entertainment\". There is a much more even spread of apps in comparison to the IOS ones. They appear to be more on the practical side than the entertainment one. \n",
    "\n",
    "#### 4) Can you recommend an app profile based on what you found so far? Do the frequency tables you generated reveal the most frequent app genres or what genres have the most users?\n",
    "\n",
    "I would definitely argue against it. I have no idea what \"need\" or \"want\" they are targeting in terms of marketing. However, this table is great for initial insights. For example, from here onwards, I would like to inspect the \"family\" genre for the Google Play apps to see what things they are addressing. The tables generated here potentially revealed a mix of both areas. The most frequent app genres generally happen where there tends to be a higher flux of users. That woulde be my initial conjecture. "
   ]
  },
  {
   "cell_type": "code",
   "execution_count": 104,
   "metadata": {},
   "outputs": [
    {
     "name": "stdout",
     "output_type": "stream",
     "text": [
      "Games : 1873\n",
      "Entertainment : 254\n",
      "Photo & Video : 160\n",
      "Education : 118\n",
      "Social Networking : 106\n",
      "Shopping : 84\n",
      "Utilities : 81\n",
      "Sports : 69\n",
      "Music : 66\n",
      "Health & Fitness : 65\n",
      "Productivity : 56\n",
      "Lifestyle : 51\n",
      "News : 43\n",
      "Travel : 40\n",
      "Finance : 36\n",
      "Weather : 28\n",
      "Food & Drink : 26\n",
      "Reference : 18\n",
      "Business : 17\n",
      "Book : 14\n",
      "Navigation : 6\n",
      "Medical : 6\n",
      "Catalogs : 4\n"
     ]
    }
   ],
   "source": [
    "#IOS App data\n",
    "\n",
    "IOS_genres = display_table(IOS_app_data_English_free,-5)"
   ]
  },
  {
   "cell_type": "markdown",
   "metadata": {
    "collapsed": true
   },
   "source": [
    "### IOS app store -  free and english app insights:\n",
    "\n",
    "#### 1) What are the most common genres?\n",
    "\n",
    "The most commong genres appear to be games (overwhelmingly), entertainment and photo apps.\n",
    "\n",
    "#### 2) What other patterns can be seen?\n",
    "\n",
    "Aside from the games and social media apps, the remainder of the apps appear to be tool based. They can be tools for finding places to dine, travel, finance, shopping, and more.\n",
    "\n",
    "\n",
    "#### 3) What is the general impression - more for entertainment or practical purposes?\n",
    "\n",
    "I would argue both in some measure. Everything that is not game or photo-related appears to be tool based. The games, photos, and social media apps are definitely entertainment centric.\n",
    "\n",
    "#### 4) Can you recommend an app profile for the App Store market based on this frequency table alone? If there's a large number of apps for a particular genre, does that also imply that apps of that genre generally have a large number of users?\n",
    "\n",
    "Actually, I would prefer not to do so yet. I would rather take a look at the apps with the highest number of reviews or downloads because the true engagement lies there. Another reason is simply the ambiguety. Games are the most popular, but \"What types of games are the most popular?\" within the subset is a better question to reach a more accurate profile. Many apps for a particular genre implies there is quite a lot of engagement and could likely have a high number of users. \n",
    "\n"
   ]
  },
  {
   "cell_type": "markdown",
   "metadata": {},
   "source": [
    "### Most popular genres by average user base\n",
    "\n",
    "#### One way to get a more accurate read on the popularity of the genres is, aside from how many apps populate them, their average amount of installs or downloads. For Google Play, the install column is present. For the IOS app store, rating_count_tot can be used as a proxy. "
   ]
  },
  {
   "cell_type": "code",
   "execution_count": 105,
   "metadata": {},
   "outputs": [],
   "source": [
    "#IOS app store\n",
    "\n",
    "len_genre_ios_freq_table = freq_table(IOS_app_data_English_free,-5)\n",
    "IOS_genre_rating_avg = {}\n",
    "\n",
    "for row in IOS_app_data_English_free:\n",
    "    genre = row[-5]\n",
    "    ratings = float(row [5])\n",
    "    \n",
    "    if genre in IOS_genre_rating_avg:\n",
    "        IOS_genre_rating_avg[genre]+=ratings\n",
    "    \n",
    "    else:\n",
    "        IOS_genre_rating_avg[genre]=ratings\n",
    "\n",
    "for key in IOS_genre_rating_avg:\n",
    "    IOS_genre_rating_avg[key]/=len_genre_ios_freq_table[key]"
   ]
  },
  {
   "cell_type": "code",
   "execution_count": 106,
   "metadata": {},
   "outputs": [
    {
     "name": "stdout",
     "output_type": "stream",
     "text": [
      "Navigation : 86090.33333333333\n",
      "Reference : 74942.11111111111\n",
      "Social Networking : 71548.34905660378\n",
      "Music : 57326.530303030304\n",
      "Weather : 52279.892857142855\n",
      "Book : 39758.5\n",
      "Food & Drink : 33333.92307692308\n",
      "Finance : 31467.944444444445\n",
      "Photo & Video : 28441.54375\n",
      "Travel : 28243.8\n",
      "Shopping : 26919.690476190477\n",
      "Health & Fitness : 23298.015384615384\n",
      "Sports : 23008.898550724636\n",
      "Games : 22800.780565937\n",
      "News : 21248.023255813954\n",
      "Productivity : 21028.410714285714\n",
      "Utilities : 18684.456790123455\n",
      "Lifestyle : 16485.764705882353\n",
      "Entertainment : 14029.830708661417\n",
      "Business : 7491.117647058823\n",
      "Education : 7003.983050847458\n",
      "Catalogs : 4004.0\n",
      "Medical : 612.0\n"
     ]
    }
   ],
   "source": [
    "#Printing for top results\n",
    "\n",
    "table_display_ios = []\n",
    "for key in IOS_genre_rating_avg:\n",
    "    key_val_as_tuple = (IOS_genre_rating_avg[key], key)\n",
    "    table_display_ios.append(key_val_as_tuple)\n",
    "\n",
    "    table_sorted = sorted(table_display_ios, reverse = True)\n",
    "for entry in table_sorted:\n",
    "    print(entry[1], ':', entry[0])"
   ]
  },
  {
   "cell_type": "markdown",
   "metadata": {},
   "source": [
    "### App profile reccomendation for IOS app store\n",
    "\n",
    "#### Although there are many games, using the ratings as a proxy for number of installs shows something different. Reference and social networking apps show the highest engagement, as well as the runner-ups navigation, music, and weather. Making an app for any of these genres could be a good idea. This search isn't defined by number of apps, but rather the amount of engagement they have in these areas. Now, let us look at Google Play Store."
   ]
  },
  {
   "cell_type": "code",
   "execution_count": 107,
   "metadata": {},
   "outputs": [],
   "source": [
    "#Google Play\n",
    "\n",
    "Genres_avg_GP = {}\n",
    "Category_app_count_GP = freq_table(android_clean_English_free,1)\n",
    "\n",
    "for row in android_clean_English_free:\n",
    "    category = row[1]\n",
    "    installs = row[5]\n",
    "    installs = installs.replace(\",\",\"\")\n",
    "    installs = installs.replace(\"+\",\"\")\n",
    "    installs = float(installs)\n",
    "    \n",
    "    if category in Genres_avg_GP:\n",
    "        Genres_avg_GP[category]+= installs\n",
    "        \n",
    "    else:\n",
    "        Genres_avg_GP[category]= installs\n",
    "        \n",
    "for key in Genres_avg_GP:\n",
    "     Genres_avg_GP[key]/=Category_app_count_GP[key]"
   ]
  },
  {
   "cell_type": "code",
   "execution_count": 108,
   "metadata": {},
   "outputs": [
    {
     "name": "stdout",
     "output_type": "stream",
     "text": [
      "COMMUNICATION : 38456119.167247385\n",
      "VIDEO_PLAYERS : 24727872.452830188\n",
      "SOCIAL : 23253652.127118643\n",
      "PHOTOGRAPHY : 17840110.40229885\n",
      "PRODUCTIVITY : 16787331.344927534\n",
      "GAME : 15588015.603248259\n",
      "TRAVEL_AND_LOCAL : 13984077.710144928\n",
      "ENTERTAINMENT : 11640705.88235294\n",
      "TOOLS : 10801391.298666667\n",
      "NEWS_AND_MAGAZINES : 9549178.467741935\n",
      "BOOKS_AND_REFERENCE : 8767811.894736841\n",
      "SHOPPING : 7036877.311557789\n",
      "PERSONALIZATION : 5201482.6122448975\n",
      "WEATHER : 5074486.197183099\n",
      "HEALTH_AND_FITNESS : 4188821.9853479853\n",
      "MAPS_AND_NAVIGATION : 4056941.7741935486\n",
      "FAMILY : 3697848.1731343283\n",
      "SPORTS : 3638640.1428571427\n",
      "ART_AND_DESIGN : 1986335.0877192982\n",
      "FOOD_AND_DRINK : 1924897.7363636363\n",
      "EDUCATION : 1833495.145631068\n",
      "BUSINESS : 1712290.1474201474\n",
      "LIFESTYLE : 1437816.2687861272\n",
      "FINANCE : 1387692.475609756\n",
      "HOUSE_AND_HOME : 1331540.5616438356\n",
      "DATING : 854028.8303030303\n",
      "COMICS : 817657.2727272727\n",
      "AUTO_AND_VEHICLES : 647317.8170731707\n",
      "LIBRARIES_AND_DEMO : 638503.734939759\n",
      "PARENTING : 542603.6206896552\n",
      "BEAUTY : 513151.88679245283\n",
      "EVENTS : 253542.22222222222\n",
      "MEDICAL : 120550.61980830671\n"
     ]
    }
   ],
   "source": [
    "#Printing the top results\n",
    "\n",
    "table_display_GP = []\n",
    "\n",
    "for key in Genres_avg_GP:\n",
    "    key_val_as_tuple = (Genres_avg_GP[key], key)\n",
    "    table_display_GP.append(key_val_as_tuple)\n",
    "\n",
    "    table_sorted = sorted(table_display_GP, reverse = True)\n",
    "for entry in table_sorted:\n",
    "    print(entry[1], ':', entry[0])"
   ]
  },
  {
   "cell_type": "markdown",
   "metadata": {},
   "source": [
    "### App profile reccomendation for Google Play store\n",
    "\n",
    "#### Communication (social), video playing and social apps show the highest engagement. Making an app for any of these categories could be a good idea. \n",
    "\n",
    "### Conclusion : General app profile reccomendation\n",
    "\n",
    "#### In fact, social media apps or apps with many \"social media-like\" elements are the common thread across the Google and IOS app pools (amongst others). It appears apps made specifically within these realms are downloaded the most often by users."
   ]
  }
 ],
 "metadata": {
  "kernelspec": {
   "display_name": "Python 3",
   "language": "python",
   "name": "python3"
  },
  "language_info": {
   "codemirror_mode": {
    "name": "ipython",
    "version": 3
   },
   "file_extension": ".py",
   "mimetype": "text/x-python",
   "name": "python",
   "nbconvert_exporter": "python",
   "pygments_lexer": "ipython3",
   "version": "3.8.2"
  }
 },
 "nbformat": 4,
 "nbformat_minor": 2
}
